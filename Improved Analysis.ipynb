{
 "cells": [
  {
   "cell_type": "markdown",
   "id": "753cf4d6-7a80-4a46-9e6c-40131190f7ab",
   "metadata": {},
   "source": [
    "# Real world data Sales Analysis"
   ]
  },
  {
   "cell_type": "code",
   "execution_count": 1,
   "id": "63c87d4a-113e-4c68-a94e-5359d4f03d2f",
   "metadata": {},
   "outputs": [],
   "source": [
    "import pandas as pd"
   ]
  },
  {
   "cell_type": "code",
   "execution_count": 2,
   "id": "1a94dd0f-7a7e-4f61-a168-0c1e1742dca1",
   "metadata": {},
   "outputs": [
    {
     "data": {
      "text/plain": [
       "Index(['Seller Gstin', 'Invoice Number', 'Invoice Date', 'Transaction Type',\n",
       "       'Order Id', 'Shipment Id', 'Shipment Date', 'Order Date',\n",
       "       'Shipment Item Id', 'Quantity', 'Item Description', 'Asin', 'Hsn/sac',\n",
       "       'Sku', 'Product Tax Code', 'Bill From City', 'Bill From State',\n",
       "       'Bill From Country', 'Bill From Postal Code', 'Ship From City',\n",
       "       'Ship From State', 'Ship From Country', 'Ship From Postal Code',\n",
       "       'Ship To City', 'Ship To State', 'Ship To Country',\n",
       "       'Ship To Postal Code', 'Invoice Amount', 'Tax Exclusive Gross',\n",
       "       'Total Tax Amount', 'Cgst Rate', 'Sgst Rate', 'Utgst Rate', 'Igst Rate',\n",
       "       'Compensatory Cess Rate', 'Principal Amount', 'Principal Amount Basis',\n",
       "       'Cgst Tax', 'Sgst Tax', 'Utgst Tax', 'Igst Tax',\n",
       "       'Compensatory Cess Tax', 'Shipping Amount', 'Shipping Amount Basis',\n",
       "       'Shipping Cgst Tax', 'Shipping Sgst Tax', 'Shipping Utgst Tax',\n",
       "       'Shipping Igst Tax', 'Shipping Cess Tax', 'Gift Wrap Amount',\n",
       "       'Gift Wrap Amount Basis', 'Gift Wrap Cgst Tax', 'Gift Wrap Sgst Tax',\n",
       "       'Gift Wrap Utgst Tax', 'Gift Wrap Igst Tax',\n",
       "       'Gift Wrap Compensatory Cess Tax', 'Item Promo Discount',\n",
       "       'Item Promo Discount Basis', 'Item Promo Tax',\n",
       "       'Shipping Promo Discount', 'Shipping Promo Discount Basis',\n",
       "       'Shipping Promo Tax', 'Gift Wrap Promo Discount',\n",
       "       'Gift Wrap Promo Discount Basis', 'Gift Wrap Promo Tax',\n",
       "       'Tcs Cgst Rate', 'Tcs Cgst Amount', 'Tcs Sgst Rate', 'Tcs Sgst Amount',\n",
       "       'Tcs Utgst Rate', 'Tcs Utgst Amount', 'Tcs Igst Rate',\n",
       "       'Tcs Igst Amount', 'Warehouse Id', 'Fulfillment Channel',\n",
       "       'Payment Method Code', 'Bill To City', 'Bill To State',\n",
       "       'Bill To Country', 'Bill To Postalcode', 'Customer Bill To Gstid',\n",
       "       'Customer Ship To Gstid', 'Buyer Name', 'Credit Note No',\n",
       "       'Credit Note Date', 'Irn Number', 'Irn Filing Status', 'Irn Date',\n",
       "       'Irn Error Code', 'Shipping Cess Tax Amount'],\n",
       "      dtype='object')"
      ]
     },
     "execution_count": 2,
     "metadata": {},
     "output_type": "execute_result"
    }
   ],
   "source": [
    "dataset_info = [\n",
    "        # hidden\n",
    "]\n",
    "\n",
    "datasets = {'b2c':{}, 'b2b':{}}\n",
    "\n",
    "for filename, category in dataset_info:\n",
    "    dataset = pd.read_csv(filename)\n",
    "    datasets[category][filename] = dataset\n",
    "    \n",
    "merged_dataset_b2b = pd.concat(datasets['b2b'].values(), ignore_index = True)\n",
    "merged_dataset_b2c = pd.concat(datasets['b2c'].values(), ignore_index = True)\n",
    "\n",
    "merged_dataset = pd.concat([merged_dataset_b2b,merged_dataset_b2c], ignore_index =True)\n",
    "merged_dataset.columns"
   ]
  },
  {
   "cell_type": "markdown",
   "id": "86746469-6335-4540-87b5-b1bc9f6b1001",
   "metadata": {},
   "source": [
    "#### To protect privacy of the data"
   ]
  },
  {
   "cell_type": "code",
   "execution_count": 3,
   "id": "6d94a33e-4f23-4b67-9521-239d0709a995",
   "metadata": {},
   "outputs": [],
   "source": [
    "unique_product_names = merged_dataset['Item Description'].unique()"
   ]
  },
  {
   "cell_type": "code",
   "execution_count": 4,
   "id": "31f64d97-d777-4e8e-ab96-8bbedc63a923",
   "metadata": {},
   "outputs": [],
   "source": [
    "product_mapping = { product_name:f\"Product {index+1}\" for index, product_name in enumerate (unique_product_names)}\n",
    "\n",
    "merged_dataset['Product Name'] = merged_dataset['Item Description'].replace(product_mapping)\n"
   ]
  },
  {
   "cell_type": "markdown",
   "id": "eb36d761-691a-4b70-b276-75d7d26c45eb",
   "metadata": {},
   "source": [
    "## Filtering Data"
   ]
  },
  {
   "cell_type": "code",
   "execution_count": 5,
   "id": "eae05d57-cde6-49ab-a082-a42ef8f8e9b2",
   "metadata": {},
   "outputs": [],
   "source": [
    "merged_dataset.dropna(how= 'all', inplace = True)"
   ]
  },
  {
   "cell_type": "code",
   "execution_count": 6,
   "id": "504f857b-b6c5-4103-a244-b1f8662ae57d",
   "metadata": {},
   "outputs": [],
   "source": [
    "merged_dataset.query(\"`Transaction Type` != 'Cancel'\", inplace = True)\n",
    "# Alternate\n",
    "\n",
    "# merged_dataset.where(merged_dataset['Transaction Type'] != 'Cancel', inplace = True)\n"
   ]
  },
  {
   "cell_type": "code",
   "execution_count": 7,
   "id": "04055927-240e-4eb4-bfa1-465cfb2fd00f",
   "metadata": {},
   "outputs": [],
   "source": [
    "merged_dataset.drop(['Seller Gstin','Order Id','Invoice Number','Invoice Date','Shipment Id', 'Shipment Date','Shipment Item Id','Product Tax Code', 'Bill From City', 'Bill From State',\n",
    "       'Bill From Country', 'Bill From Postal Code','Tax Exclusive Gross',\n",
    "       'Total Tax Amount', 'Cgst Rate', 'Sgst Rate', 'Utgst Rate', 'Igst Rate',\n",
    "       'Compensatory Cess Rate', 'Principal Amount', 'Principal Amount Basis',\n",
    "       'Cgst Tax', 'Sgst Tax', 'Utgst Tax', 'Igst Tax',\n",
    "       'Compensatory Cess Tax', 'Shipping Amount', 'Shipping Amount Basis',\n",
    "       'Shipping Cgst Tax', 'Shipping Sgst Tax', 'Shipping Utgst Tax',\n",
    "       'Shipping Igst Tax', 'Shipping Cess Tax', 'Gift Wrap Amount',\n",
    "       'Gift Wrap Amount Basis', 'Gift Wrap Cgst Tax', 'Gift Wrap Sgst Tax',\n",
    "       'Gift Wrap Utgst Tax', 'Gift Wrap Igst Tax',\n",
    "       'Gift Wrap Compensatory Cess Tax', 'Item Promo Discount Basis', 'Item Promo Tax',\n",
    "       'Shipping Promo Discount', 'Shipping Promo Discount Basis',\n",
    "       'Shipping Promo Tax', 'Gift Wrap Promo Discount',\n",
    "       'Gift Wrap Promo Discount Basis', 'Gift Wrap Promo Tax',\n",
    "       'Tcs Cgst Rate', 'Tcs Cgst Amount', 'Tcs Sgst Rate', 'Tcs Sgst Amount',\n",
    "       'Tcs Utgst Rate', 'Tcs Utgst Amount', 'Tcs Igst Rate',\n",
    "       'Tcs Igst Amount', 'Warehouse Id','Payment Method Code', 'Bill To City', 'Bill To State',\n",
    "       'Bill To Country', 'Bill To Postalcode', 'Customer Bill To Gstid',\n",
    "       'Customer Ship To Gstid', 'Buyer Name', 'Credit Note No',\n",
    "       'Credit Note Date', 'Irn Number', 'Irn Filing Status', 'Irn Date',\n",
    "       'Irn Error Code', 'Shipping Cess Tax Amount','Asin','Hsn/sac','Sku' ],axis =1,  inplace = True)"
   ]
  },
  {
   "cell_type": "markdown",
   "id": "e42aa64c-8d81-4509-9818-d5c3d9f10bb5",
   "metadata": {},
   "source": [
    "## Creating Custom Dataset / Pre Processing "
   ]
  },
  {
   "cell_type": "code",
   "execution_count": 8,
   "id": "39af9fb4-d02e-47f8-9709-9e021356b4d8",
   "metadata": {},
   "outputs": [],
   "source": [
    "c_dataset = merged_dataset[[ 'Transaction Type',\n",
    "       'Quantity', 'Product Name']].copy()"
   ]
  },
  {
   "cell_type": "code",
   "execution_count": 9,
   "id": "5e0b1d69-49a8-4093-bdbf-d278cc73bfb9",
   "metadata": {},
   "outputs": [],
   "source": [
    "c_dataset['Order Date'] = pd.to_datetime(merged_dataset['Order Date'])\n",
    "c_dataset['Fulfillment Channel'] = merged_dataset['Fulfillment Channel']"
   ]
  },
  {
   "cell_type": "markdown",
   "id": "43f0e18c-c60e-4f40-bdf5-d056b2897825",
   "metadata": {},
   "source": [
    "## Creating a column with statenames from the ship to postal code.\n",
    "####   1. We are gonna use a dataframe that has most of the postal codes with their statenames.\n",
    "####   2. For the Postal code which are not present will use another method to get the state names."
   ]
  },
  {
   "cell_type": "code",
   "execution_count": 10,
   "id": "1d61fe2e-e239-41d5-82ca-906f9ace6808",
   "metadata": {},
   "outputs": [],
   "source": [
    "# lets First create a dictionary to map the postal codes to statenames\n",
    "pincode_lookup_df = pd.read_csv('Pincode_lookup.csv')\n",
    "\n",
    "#creating a dict with key as Pincode and value as Statename\n",
    "pincode_lookup_dict = pincode_lookup_df.set_index('Pincode')['StateName'].to_dict()"
   ]
  },
  {
   "cell_type": "code",
   "execution_count": 11,
   "id": "5fc7d55c-6022-484c-8a3c-8766b13d5131",
   "metadata": {},
   "outputs": [],
   "source": [
    "#mapping state postal code to the pincode_lookup_dict\n",
    "\n",
    "c_dataset['Shipping State'] = merged_dataset['Ship To Postal Code'].map(pincode_lookup_dict)"
   ]
  },
  {
   "cell_type": "code",
   "execution_count": 12,
   "id": "0a5f84aa-624c-4b9c-8b45-345efd8778f4",
   "metadata": {},
   "outputs": [
    {
     "data": {
      "text/plain": [
       "87"
      ]
     },
     "execution_count": 12,
     "metadata": {},
     "output_type": "execute_result"
    }
   ],
   "source": [
    "c_dataset['Shipping State'].isnull().sum()"
   ]
  },
  {
   "cell_type": "markdown",
   "id": "aac8e8cd-a232-43bb-82d2-eac1e7078792",
   "metadata": {},
   "source": [
    "--> There are still 87 rows with unmatched statename to solve this\n",
    "\n",
    "--> The first two numbers of the postal codes have direct relation with the state name ex: pincodes starting with 11 are of delhi, \n",
    "12 is for haryana we can use this to fill the rest of the rows with right state name\n",
    "\n",
    "\n",
    "## We are gonna use another dataframe that is pincode_lookup_or which as state pincode relation with the first two numbers of the postal code"
   ]
  },
  {
   "cell_type": "code",
   "execution_count": 13,
   "id": "35c5924c-d136-4879-8a67-dd31cebdf5a4",
   "metadata": {},
   "outputs": [
    {
     "data": {
      "text/plain": [
       "0"
      ]
     },
     "execution_count": 13,
     "metadata": {},
     "output_type": "execute_result"
    }
   ],
   "source": [
    "pincode_lookup_or = pd.read_csv('State OR lookup.csv')\n",
    "\n",
    "#creating a dict to map\n",
    "pincode_lookup_or['First_Numbers'] = pincode_lookup_or['First_Numbers'].astype(str)\n",
    "pincode_lookup_or_dict = pincode_lookup_or.set_index('First_Numbers')['State_Name'].to_dict()\n",
    "\n",
    "\n",
    "# mapping the dict and creating new column with the relative state name and then fill the nulls of shiiping state with these new state names\n",
    "\n",
    "c_dataset['relative statename'] = merged_dataset['Ship To Postal Code'].astype(str).str[:2].map(pincode_lookup_or_dict)\n",
    "\n",
    "c_dataset['Shipping State'] = c_dataset['Shipping State'].fillna(c_dataset['relative statename'])\n",
    "\n",
    "c_dataset.drop('relative statename', axis=1, inplace=True)\n",
    "c_dataset['Shipping State'].isnull().sum()"
   ]
  },
  {
   "cell_type": "markdown",
   "id": "959e7222-11b3-4582-850e-afb108418dd2",
   "metadata": {},
   "source": [
    "## Seggregating Refunds/Returns, Promotional Sales, Organic Sales and Gross Sales"
   ]
  },
  {
   "cell_type": "markdown",
   "id": "e9e09aa3-1227-4124-91de-600bc42f08bb",
   "metadata": {},
   "source": [
    "#### Refunds/Retruns"
   ]
  },
  {
   "cell_type": "code",
   "execution_count": 14,
   "id": "8c064170-4beb-4a54-8445-670f4e6d44d7",
   "metadata": {},
   "outputs": [],
   "source": [
    "c_dataset['Refunds/Returns'] = (merged_dataset['Invoice Amount'].where(merged_dataset['Transaction Type'] == 'Refund')).fillna(0)\n",
    "\n",
    "#alternate 1\n",
    "\n",
    "# c_dataset['Refunds/Returns'] = merged_dataset.query(\"`Transaction Type` == 'Refund'\")['Invoice Amount']\n",
    "# c_dataset['Refunds/Returns'] = c_dataset['Refunds/Returns'].fillna(0)\n",
    "\n",
    "#alternate 2 \n",
    "\n",
    "# c_dataset['Refunds/Returns'] = merged_dataset['Invoice Amount'][merged_dataset['Transaction Type'] == 'Refund']\n",
    "# c_dataset['Refunds/Returns'] = c_dataset['Refunds/Returns'].fillna(0)\n",
    "\n"
   ]
  },
  {
   "cell_type": "markdown",
   "id": "57c55c44-f536-44b6-99fa-4bed6dae87e1",
   "metadata": {
    "tags": []
   },
   "source": [
    "#### Promotional Sales"
   ]
  },
  {
   "cell_type": "code",
   "execution_count": 15,
   "id": "fe637247-c0bc-45a9-a2ac-cd34e6b7b6d4",
   "metadata": {},
   "outputs": [],
   "source": [
    "c_dataset['Promotional Sales'] = (merged_dataset['Invoice Amount'].where(merged_dataset['Item Promo Discount']<0)).fillna(0)\n",
    "\n",
    "#alternate 1\n",
    "# c_dataset['Promotional Sales'] = merged_dataset.query(\"`Item Promo Discount` < 0\")['Invoice Amount']\n",
    "# c_dataset['Promotional Sales'] = c_dataset['Promotional Sales'].fillna(0) \n",
    "\n",
    "#alternate 2\n",
    "# c_dataset['Promotional Sales'] = merged_dataset['Invoice Amount'][merged_dataset['Item Promo Discount']<0]\n",
    "# c_dataset['Promotional Sales'] = c_dataset['Promotional Sales'].fillna(0) \n"
   ]
  },
  {
   "cell_type": "markdown",
   "id": "300ec0b7-1f13-4c24-baac-c84842ced4ff",
   "metadata": {},
   "source": [
    "#### Organice Sales"
   ]
  },
  {
   "cell_type": "code",
   "execution_count": 16,
   "id": "2356040a-c237-4aca-8122-5eb16e93bd68",
   "metadata": {},
   "outputs": [],
   "source": [
    "c_dataset['Organice Sales'] = (merged_dataset['Invoice Amount'].where((merged_dataset['Transaction Type']!='Refund') & (merged_dataset['Item Promo Discount']==0))).fillna(0)"
   ]
  },
  {
   "cell_type": "code",
   "execution_count": 17,
   "id": "4c6b2b63-863c-4e60-ad08-efb879d8167b",
   "metadata": {},
   "outputs": [],
   "source": [
    "c_dataset['Gross Sales'] = merged_dataset['Invoice Amount'].abs()"
   ]
  },
  {
   "cell_type": "markdown",
   "id": "d9aa4afa-cbb8-46b1-bb47-abb8b10c464e",
   "metadata": {},
   "source": [
    "## Processed Data ready for insights"
   ]
  },
  {
   "cell_type": "code",
   "execution_count": 19,
   "id": "7d16430c-c777-454e-a49f-d6ad582cc365",
   "metadata": {},
   "outputs": [
    {
     "data": {
      "text/html": [
       "<div>\n",
       "<style scoped>\n",
       "    .dataframe tbody tr th:only-of-type {\n",
       "        vertical-align: middle;\n",
       "    }\n",
       "\n",
       "    .dataframe tbody tr th {\n",
       "        vertical-align: top;\n",
       "    }\n",
       "\n",
       "    .dataframe thead th {\n",
       "        text-align: right;\n",
       "    }\n",
       "</style>\n",
       "<table border=\"1\" class=\"dataframe\">\n",
       "  <thead>\n",
       "    <tr style=\"text-align: right;\">\n",
       "      <th></th>\n",
       "      <th>Transaction Type</th>\n",
       "      <th>Quantity</th>\n",
       "      <th>Product Name</th>\n",
       "      <th>Order Date</th>\n",
       "      <th>Fulfillment Channel</th>\n",
       "      <th>Shipping State</th>\n",
       "      <th>Refunds/Returns</th>\n",
       "      <th>Promotional Sales</th>\n",
       "      <th>Organice Sales</th>\n",
       "      <th>Gross Sales</th>\n",
       "    </tr>\n",
       "  </thead>\n",
       "  <tbody>\n",
       "    <tr>\n",
       "      <th>1</th>\n",
       "      <td>Shipment</td>\n",
       "      <td>2</td>\n",
       "      <td>Product 2</td>\n",
       "      <td>2022-02-13 23:29:04</td>\n",
       "      <td>MFN</td>\n",
       "      <td>Madhya Pradesh</td>\n",
       "      <td>0.0</td>\n",
       "      <td>0.0</td>\n",
       "      <td>1198.0</td>\n",
       "      <td>1198.0</td>\n",
       "    </tr>\n",
       "    <tr>\n",
       "      <th>2</th>\n",
       "      <td>Shipment</td>\n",
       "      <td>1</td>\n",
       "      <td>Product 2</td>\n",
       "      <td>2022-02-14 00:05:14</td>\n",
       "      <td>MFN</td>\n",
       "      <td>Maharashtra</td>\n",
       "      <td>0.0</td>\n",
       "      <td>539.1</td>\n",
       "      <td>0.0</td>\n",
       "      <td>539.1</td>\n",
       "    </tr>\n",
       "    <tr>\n",
       "      <th>4</th>\n",
       "      <td>Shipment</td>\n",
       "      <td>1</td>\n",
       "      <td>Product 3</td>\n",
       "      <td>2022-02-18 17:27:15</td>\n",
       "      <td>MFN</td>\n",
       "      <td>Uttar Pradesh</td>\n",
       "      <td>0.0</td>\n",
       "      <td>0.0</td>\n",
       "      <td>699.0</td>\n",
       "      <td>699.0</td>\n",
       "    </tr>\n",
       "    <tr>\n",
       "      <th>5</th>\n",
       "      <td>Shipment</td>\n",
       "      <td>1</td>\n",
       "      <td>Product 4</td>\n",
       "      <td>2022-02-23 11:28:24</td>\n",
       "      <td>AFN</td>\n",
       "      <td>Maharashtra</td>\n",
       "      <td>0.0</td>\n",
       "      <td>449.1</td>\n",
       "      <td>0.0</td>\n",
       "      <td>449.1</td>\n",
       "    </tr>\n",
       "    <tr>\n",
       "      <th>7</th>\n",
       "      <td>Shipment</td>\n",
       "      <td>2</td>\n",
       "      <td>Product 5</td>\n",
       "      <td>2022-02-25 20:33:16</td>\n",
       "      <td>MFN</td>\n",
       "      <td>Telangana</td>\n",
       "      <td>0.0</td>\n",
       "      <td>0.0</td>\n",
       "      <td>3998.0</td>\n",
       "      <td>3998.0</td>\n",
       "    </tr>\n",
       "    <tr>\n",
       "      <th>...</th>\n",
       "      <td>...</td>\n",
       "      <td>...</td>\n",
       "      <td>...</td>\n",
       "      <td>...</td>\n",
       "      <td>...</td>\n",
       "      <td>...</td>\n",
       "      <td>...</td>\n",
       "      <td>...</td>\n",
       "      <td>...</td>\n",
       "      <td>...</td>\n",
       "    </tr>\n",
       "    <tr>\n",
       "      <th>8296</th>\n",
       "      <td>Shipment</td>\n",
       "      <td>1</td>\n",
       "      <td>Product 24</td>\n",
       "      <td>2023-05-31 14:18:41</td>\n",
       "      <td>AFN</td>\n",
       "      <td>Telangana</td>\n",
       "      <td>0.0</td>\n",
       "      <td>0.0</td>\n",
       "      <td>499.0</td>\n",
       "      <td>499.0</td>\n",
       "    </tr>\n",
       "    <tr>\n",
       "      <th>8297</th>\n",
       "      <td>Shipment</td>\n",
       "      <td>1</td>\n",
       "      <td>Product 7</td>\n",
       "      <td>2023-05-31 09:57:04</td>\n",
       "      <td>AFN</td>\n",
       "      <td>Uttar Pradesh</td>\n",
       "      <td>0.0</td>\n",
       "      <td>0.0</td>\n",
       "      <td>599.0</td>\n",
       "      <td>599.0</td>\n",
       "    </tr>\n",
       "    <tr>\n",
       "      <th>8298</th>\n",
       "      <td>Shipment</td>\n",
       "      <td>1</td>\n",
       "      <td>Product 24</td>\n",
       "      <td>2023-05-28 13:10:13</td>\n",
       "      <td>AFN</td>\n",
       "      <td>Karnataka</td>\n",
       "      <td>0.0</td>\n",
       "      <td>0.0</td>\n",
       "      <td>499.0</td>\n",
       "      <td>499.0</td>\n",
       "    </tr>\n",
       "    <tr>\n",
       "      <th>8299</th>\n",
       "      <td>Shipment</td>\n",
       "      <td>1</td>\n",
       "      <td>Product 7</td>\n",
       "      <td>2023-05-31 19:45:44</td>\n",
       "      <td>AFN</td>\n",
       "      <td>Maharashtra</td>\n",
       "      <td>0.0</td>\n",
       "      <td>0.0</td>\n",
       "      <td>599.0</td>\n",
       "      <td>599.0</td>\n",
       "    </tr>\n",
       "    <tr>\n",
       "      <th>8300</th>\n",
       "      <td>Shipment</td>\n",
       "      <td>1</td>\n",
       "      <td>Product 7</td>\n",
       "      <td>2023-05-28 16:28:28</td>\n",
       "      <td>AFN</td>\n",
       "      <td>Karnataka</td>\n",
       "      <td>0.0</td>\n",
       "      <td>0.0</td>\n",
       "      <td>599.0</td>\n",
       "      <td>599.0</td>\n",
       "    </tr>\n",
       "  </tbody>\n",
       "</table>\n",
       "<p>7313 rows × 10 columns</p>\n",
       "</div>"
      ],
      "text/plain": [
       "     Transaction Type  Quantity Product Name          Order Date  \\\n",
       "1            Shipment         2    Product 2 2022-02-13 23:29:04   \n",
       "2            Shipment         1    Product 2 2022-02-14 00:05:14   \n",
       "4            Shipment         1    Product 3 2022-02-18 17:27:15   \n",
       "5            Shipment         1    Product 4 2022-02-23 11:28:24   \n",
       "7            Shipment         2    Product 5 2022-02-25 20:33:16   \n",
       "...               ...       ...          ...                 ...   \n",
       "8296         Shipment         1   Product 24 2023-05-31 14:18:41   \n",
       "8297         Shipment         1    Product 7 2023-05-31 09:57:04   \n",
       "8298         Shipment         1   Product 24 2023-05-28 13:10:13   \n",
       "8299         Shipment         1    Product 7 2023-05-31 19:45:44   \n",
       "8300         Shipment         1    Product 7 2023-05-28 16:28:28   \n",
       "\n",
       "     Fulfillment Channel  Shipping State  Refunds/Returns  Promotional Sales  \\\n",
       "1                    MFN  Madhya Pradesh              0.0                0.0   \n",
       "2                    MFN     Maharashtra              0.0              539.1   \n",
       "4                    MFN   Uttar Pradesh              0.0                0.0   \n",
       "5                    AFN     Maharashtra              0.0              449.1   \n",
       "7                    MFN       Telangana              0.0                0.0   \n",
       "...                  ...             ...              ...                ...   \n",
       "8296                 AFN       Telangana              0.0                0.0   \n",
       "8297                 AFN   Uttar Pradesh              0.0                0.0   \n",
       "8298                 AFN       Karnataka              0.0                0.0   \n",
       "8299                 AFN     Maharashtra              0.0                0.0   \n",
       "8300                 AFN       Karnataka              0.0                0.0   \n",
       "\n",
       "      Organice Sales  Gross Sales  \n",
       "1             1198.0       1198.0  \n",
       "2                0.0        539.1  \n",
       "4              699.0        699.0  \n",
       "5                0.0        449.1  \n",
       "7             3998.0       3998.0  \n",
       "...              ...          ...  \n",
       "8296           499.0        499.0  \n",
       "8297           599.0        599.0  \n",
       "8298           499.0        499.0  \n",
       "8299           599.0        599.0  \n",
       "8300           599.0        599.0  \n",
       "\n",
       "[7313 rows x 10 columns]"
      ]
     },
     "execution_count": 19,
     "metadata": {},
     "output_type": "execute_result"
    }
   ],
   "source": [
    "c_dataset.to_csv('Optmised Analysis Data.csv', index=False)\n",
    "c_dataset"
   ]
  },
  {
   "cell_type": "markdown",
   "id": "a95763f6-11f8-435a-bcb2-70919d5d5fad",
   "metadata": {},
   "source": [
    "# Visualisation "
   ]
  },
  {
   "cell_type": "markdown",
   "id": "47094140-f48c-41d0-8947-c0c320234436",
   "metadata": {},
   "source": [
    "[Power BI Visualisation](https://app.powerbi.com/view?r=eyJrIjoiN2E5MDkzNDItMDA1OS00MTM0LWE5NGQtODFhNGQ4MDk0YzZmIiwidCI6ImJmNDE4ZmE0LWM3NzQtNDViMS05YWZiLTM0NjgyNGVlYWZlMSIsImMiOjEwfQ%3D%3D&pageName=ReportSection)\n"
   ]
  },
  {
   "cell_type": "code",
   "execution_count": null,
   "id": "e1f0bfd1-e19c-44c0-a0da-979c27a5c285",
   "metadata": {},
   "outputs": [],
   "source": []
  }
 ],
 "metadata": {
  "kernelspec": {
   "display_name": "Python 3 (ipykernel)",
   "language": "python",
   "name": "python3"
  },
  "language_info": {
   "codemirror_mode": {
    "name": "ipython",
    "version": 3
   },
   "file_extension": ".py",
   "mimetype": "text/x-python",
   "name": "python",
   "nbconvert_exporter": "python",
   "pygments_lexer": "ipython3",
   "version": "3.9.7"
  }
 },
 "nbformat": 4,
 "nbformat_minor": 5
}
